{
 "cells": [
  {
   "cell_type": "code",
   "execution_count": null,
   "metadata": {},
   "outputs": [],
   "source": [
    "import os\n",
    "import re\n",
    "from six.moves import urllib\n",
    "import matplotlib.pyplot as plt\n",
    "import mediapy as media\n",
    "import numpy as np\n",
    "from PIL import Image\n",
    "import tensorflow as tf\n",
    "import tensorflow_datasets as tfds\n",
    "import tensorflow_hub as hub\n",
    "\n",
    "from official.vision.beta.configs import video_classification\n",
    "from official.vision.beta.projects.movinet.configs import movinet as movinet_configs\n",
    "from official.vision.beta.projects.movinet.modeling import movinet\n",
    "from official.vision.beta.projects.movinet.modeling import movinet_layers\n",
    "from official.vision.beta.projects.movinet.modeling import movinet_model\n",
    "\n",
    "tf.config.list_physical_devices('GPU')"
   ]
  },
  {
   "cell_type": "code",
   "execution_count": null,
   "metadata": {},
   "outputs": [],
   "source": [
    "movinet_a2_hub_url = 'https://tfhub.dev/tensorflow/movinet/a2/base/kinetics-600/classification/1'\n",
    "\n",
    "inputs = tf.keras.layers.Input(\n",
    "    shape=[None, None, None, 3],\n",
    "    dtype=tf.float32)\n",
    "\n",
    "encoder = hub.KerasLayer(movinet_a2_hub_url, trainable=True)\n",
    "\n",
    "# Important: To use tf.nn.conv3d on CPU, we must compile with tf.function.\n",
    "encoder.call = tf.function(encoder.call, experimental_compile=True)\n",
    "\n",
    "# [batch_size, 600]\n",
    "outputs = encoder(dict(image=inputs))\n",
    "\n",
    "model = tf.keras.Model(inputs, outputs)"
   ]
  },
  {
   "cell_type": "code",
   "execution_count": null,
   "metadata": {},
   "outputs": [],
   "source": [
    "image_url = 'https://upload.wikimedia.org/wikipedia/commons/8/84/Ski_Famille_-_Family_Ski_Holidays.jpg'\n",
    "image_height = 224\n",
    "image_width = 224\n",
    "\n",
    "with urllib.request.urlopen(image_url) as f:\n",
    "  image = Image.open(f).resize((image_height, image_width))\n",
    "video = tf.reshape(np.array(image), [1, 1, image_height, image_width, 3])\n",
    "video = tf.cast(video, tf.float32) / 255.\n",
    "\n",
    "image"
   ]
  },
  {
   "cell_type": "code",
   "execution_count": null,
   "metadata": {},
   "outputs": [],
   "source": [
    "output = model(video)\n",
    "output_label_index = tf.argmax(output, -1)[0].numpy()\n",
    "\n",
    "print(output_label_index)"
   ]
  },
  {
   "cell_type": "code",
   "execution_count": null,
   "metadata": {},
   "outputs": [],
   "source": [
    "num_classes = 101\n",
    "num_examples = {'train':9537 , 'test':3783} #from tensorflow site"
   ]
  },
  {
   "cell_type": "code",
   "execution_count": null,
   "metadata": {},
   "outputs": [],
   "source": [
    "batch_size = 8\n",
    "num_frames = 8\n",
    "frame_stride = 10\n",
    "resolution = 172\n",
    "\n",
    "def format_features(features):\n",
    "  video = features['video']\n",
    "  video = video[:, ::frame_stride]\n",
    "  video = video[:, :num_frames]\n",
    "\n",
    "  video = tf.reshape(video, [-1, video.shape[2], video.shape[3], 3])\n",
    "  video = tf.image.resize(video, (resolution, resolution))\n",
    "  video = tf.reshape(video, [-1, num_frames, resolution, resolution, 3])\n",
    "  video = tf.cast(video, tf.float32) / 255.\n",
    "\n",
    "  label = tf.one_hot(features['label'], num_classes)\n",
    "  return (video, label)\n",
    "\n",
    "train_dataset = tfds.load(\n",
    "    'ucf101', \n",
    "    data_dir ='/home/evan/Datasets/tensorflow', \n",
    "    split='train',\n",
    "    batch_size=batch_size,\n",
    "    shuffle_files=True)\n",
    "train_dataset = train_dataset.map(\n",
    "    format_features,\n",
    "    num_parallel_calls=tf.data.AUTOTUNE)\n",
    "train_dataset = train_dataset.repeat()\n",
    "train_dataset = train_dataset.prefetch(2)\n",
    "\n",
    "test_dataset = tfds.load(\n",
    "    'ucf101', \n",
    "    data_dir ='/home/evan/Datasets/tensorflow', \n",
    "    split='train',\n",
    "    batch_size=batch_size)\n",
    "test_dataset = test_dataset.map(\n",
    "    format_features,\n",
    "    num_parallel_calls=tf.data.AUTOTUNE,\n",
    "    deterministic=True)\n",
    "test_dataset = test_dataset.prefetch(2)"
   ]
  },
  {
   "cell_type": "code",
   "execution_count": null,
   "metadata": {},
   "outputs": [],
   "source": [
    "videos, labels = next(iter(train_dataset))\n",
    "media.show_videos(videos.numpy(), codec='gif', fps=5)"
   ]
  },
  {
   "cell_type": "code",
   "execution_count": null,
   "metadata": {},
   "outputs": [],
   "source": [
    "model_id = 'a0'\n",
    "\n",
    "tf.keras.backend.clear_session()\n",
    "\n",
    "backbone = movinet.Movinet(\n",
    "    model_id=model_id)\n",
    "model = movinet_model.MovinetClassifier(\n",
    "    backbone=backbone,\n",
    "    num_classes=600)\n",
    "model.build([batch_size, num_frames, resolution, resolution, 3])\n",
    "\n",
    "# Load pretrained weights from TF Hub\n",
    "movinet_hub_url = f'https://tfhub.dev/tensorflow/movinet/{model_id}/base/kinetics-600/classification/1'\n",
    "movinet_hub_model = hub.KerasLayer(movinet_hub_url, trainable=True)\n",
    "pretrained_weights = {w.name: w for w in movinet_hub_model.weights}\n",
    "model_weights = {w.name: w for w in model.weights}\n",
    "\n",
    "  #rename weights appropriately\n",
    "for name in model_weights:\n",
    "  pretrained_name = re.sub(r'block(\\d)_', r'b\\1/', name)\n",
    "  pretrained_name = re.sub(r'layer(\\d)', r'l\\1', pretrained_name)\n",
    "  model_weights[name].assign(pretrained_weights[pretrained_name])\n",
    "\n",
    "# Wrap the backbone with a new classifier to create a new classifier head\n",
    "# with num_classes outputs\n",
    "model = movinet_model.MovinetClassifier(\n",
    "    backbone=backbone,\n",
    "    num_classes=num_classes)\n",
    "model.build([batch_size, num_frames, resolution, resolution, 3])\n",
    "\n",
    "# Freeze all layers except for the final classifier head\n",
    "for layer in model.layers[:-1]:\n",
    "  layer.trainable = False\n",
    "model.layers[-1].trainable = True"
   ]
  },
  {
   "cell_type": "code",
   "execution_count": null,
   "metadata": {},
   "outputs": [],
   "source": [
    "num_epochs = 3\n",
    "\n",
    "train_steps = num_examples['train'] // batch_size\n",
    "total_train_steps = train_steps * num_epochs\n",
    "test_steps = num_examples['test'] // batch_size\n",
    "\n",
    "loss_obj = tf.keras.losses.CategoricalCrossentropy(\n",
    "    from_logits=True,\n",
    "    label_smoothing=0.1)\n",
    "\n",
    "metrics = [\n",
    "    tf.keras.metrics.TopKCategoricalAccuracy(\n",
    "        k=1, name='top_1', dtype=tf.float32),\n",
    "    tf.keras.metrics.TopKCategoricalAccuracy(\n",
    "        k=5, name='top_5', dtype=tf.float32),\n",
    "]\n",
    "\n",
    "initial_learning_rate = 0.01\n",
    "learning_rate = tf.keras.optimizers.schedules.CosineDecay(\n",
    "    initial_learning_rate, decay_steps=total_train_steps,\n",
    ")\n",
    "optimizer = tf.keras.optimizers.RMSprop(\n",
    "    learning_rate, rho=0.9, momentum=0.9, epsilon=1.0, clipnorm=1.0)\n",
    "\n",
    "model.compile(loss=loss_obj, optimizer=optimizer, metrics=metrics)\n",
    "\n",
    "callbacks = [\n",
    "    tf.keras.callbacks.TensorBoard(),\n",
    "]"
   ]
  },
  {
   "cell_type": "code",
   "execution_count": null,
   "metadata": {},
   "outputs": [],
   "source": [
    "results = model.fit(\n",
    "    train_dataset,\n",
    "    validation_data=test_dataset,\n",
    "    epochs=num_epochs,\n",
    "    steps_per_epoch=train_steps,\n",
    "    validation_steps=test_steps,\n",
    "    callbacks=callbacks,\n",
    "    validation_freq=1,\n",
    "    verbose=1)"
   ]
  },
  {
   "cell_type": "code",
   "execution_count": null,
   "metadata": {},
   "outputs": [],
   "source": [
    "%reload_ext tensorboard\n",
    "%tensorboard --logdir logs --port 0"
   ]
  }
 ],
 "metadata": {
  "interpreter": {
   "hash": "31f2aee4e71d21fbe5cf8b01ff0e069b9275f58929596ceb00d14d90e3e16cd6"
  },
  "kernelspec": {
   "display_name": "Python 3.6.9 64-bit",
   "name": "python3"
  },
  "language_info": {
   "codemirror_mode": {
    "name": "ipython",
    "version": 3
   },
   "file_extension": ".py",
   "mimetype": "text/x-python",
   "name": "python",
   "nbconvert_exporter": "python",
   "pygments_lexer": "ipython3",
   "version": "3.6.9"
  },
  "orig_nbformat": 4
 },
 "nbformat": 4,
 "nbformat_minor": 2
}
