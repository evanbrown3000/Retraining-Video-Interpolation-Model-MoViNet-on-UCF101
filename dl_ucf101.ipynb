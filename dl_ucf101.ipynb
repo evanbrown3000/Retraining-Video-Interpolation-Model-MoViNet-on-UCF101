{
 "cells": [
  {
   "cell_type": "code",
   "execution_count": 2,
   "source": [
    "import tensorflow as tf\n",
    "\n",
    "import tensorflow_datasets as tfds\n",
    "\n",
    "dl_config = tfds.download.DownloadConfig(verify_ssl = False)\n",
    "\n",
    "data = tfds.load('ucf101', data_dir ='/home/evan/Datasets/tensorflow',\n",
    "    download_and_prepare_kwargs={\n",
    "            'download_config': dl_config,\n",
    "        }\n",
    "    )"
   ],
   "outputs": [],
   "metadata": {}
  },
  {
   "cell_type": "code",
   "execution_count": 3,
   "source": [
    "data"
   ],
   "outputs": [
    {
     "output_type": "execute_result",
     "data": {
      "text/plain": [
       "{'train': <PrefetchDataset shapes: {label: (), video: (None, 256, 256, 3)}, types: {label: tf.int64, video: tf.uint8}>,\n",
       " 'test': <PrefetchDataset shapes: {label: (), video: (None, 256, 256, 3)}, types: {label: tf.int64, video: tf.uint8}>}"
      ]
     },
     "metadata": {},
     "execution_count": 3
    }
   ],
   "metadata": {}
  }
 ],
 "metadata": {
  "orig_nbformat": 4,
  "language_info": {
   "name": "python",
   "version": "3.6.9",
   "mimetype": "text/x-python",
   "codemirror_mode": {
    "name": "ipython",
    "version": 3
   },
   "pygments_lexer": "ipython3",
   "nbconvert_exporter": "python",
   "file_extension": ".py"
  },
  "kernelspec": {
   "name": "python3",
   "display_name": "Python 3.6.9 64-bit"
  },
  "interpreter": {
   "hash": "31f2aee4e71d21fbe5cf8b01ff0e069b9275f58929596ceb00d14d90e3e16cd6"
  }
 },
 "nbformat": 4,
 "nbformat_minor": 2
}